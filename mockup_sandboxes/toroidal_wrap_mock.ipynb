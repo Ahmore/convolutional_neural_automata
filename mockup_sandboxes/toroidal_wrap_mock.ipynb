{
 "cells": [
  {
   "cell_type": "code",
   "execution_count": 2,
   "metadata": {},
   "outputs": [
    {
     "name": "stdout",
     "output_type": "stream",
     "text": [
      "Variable containing:\n",
      "    0     0     0     0     0     0     0     0     0     0\n",
      "    1     1     1     1     1     1     1     1     1     1\n",
      "    8     8     8     8     8     8     8     8     8     8\n",
      "    9     9     9     9     9     9     9     9     9     9\n",
      "    4     4     4     4     4     4     4     4     4     4\n",
      "    5     5     5     5     5     5     5     5     5     5\n",
      "    0     0     0     0     0     0     0     0     0     0\n",
      "    1     1     1     1     1     1     1     1     1     1\n",
      "    8     8     8     8     8     8     8     8     8     8\n",
      "    9     9     9     9     9     9     9     9     9     9\n",
      "[torch.LongTensor of size 10x10]\n",
      "\n",
      "Variable containing:\n",
      "    0     1     8     9     4     5     0     1     8     9\n",
      "    0     1     8     9     4     5     0     1     8     9\n",
      "    0     1     8     9     4     5     0     1     8     9\n",
      "    0     1     8     9     4     5     0     1     8     9\n",
      "    0     1     8     9     4     5     0     1     8     9\n",
      "    0     1     8     9     4     5     0     1     8     9\n",
      "    0     1     8     9     4     5     0     1     8     9\n",
      "    0     1     8     9     4     5     0     1     8     9\n",
      "    0     1     8     9     4     5     0     1     8     9\n",
      "    0     1     8     9     4     5     0     1     8     9\n",
      "[torch.LongTensor of size 10x10]\n",
      "\n"
     ]
    },
    {
     "data": {
      "text/plain": [
       "Variable containing:\n",
       "  955   966    94    95    96   944   955   966    94    95\n",
       "  988   999    97    98    99   977   988   999    97    98\n",
       "   22    33     1     2     3    11    22    33     1     2\n",
       "   55    66     4     5     6    44    55    66     4     5\n",
       "   88    99     7     8     9    77    88    99     7     8\n",
       "  922   933    91    92    93   911   922   933    91    92\n",
       "  955   966    94    95    96   944   955   966    94    95\n",
       "  988   999    97    98    99   977   988   999    97    98\n",
       "   22    33     1     2     3    11    22    33     1     2\n",
       "   55    66     4     5     6    44    55    66     4     5\n",
       "[torch.FloatTensor of size 10x10]"
      ]
     },
     "execution_count": 2,
     "metadata": {},
     "output_type": "execute_result"
    }
   ],
   "source": [
    "# Use torch tensor manipulation to pad and copy a grid to have toroidal padding for convolution\n",
    "\n",
    "import torch\n",
    "\n",
    "x = torch.autograd.Variable(torch.Tensor([\n",
    "    [1, 2, 3, 11, 22, 33, ],\n",
    "    [4, 5, 6, 44, 55, 66, ],\n",
    "    [7, 8, 9, 77, 88, 99, ],\n",
    "    [91, 92, 93, 911, 922, 933, ],\n",
    "    [94, 95, 96, 944, 955, 966, ],\n",
    "    [97, 98, 99, 977, 988, 999, ],\n",
    "]))\n",
    "\n",
    "y = torch.nn.ConstantPad2d(2,0)(x)\n",
    "\n",
    "grid_height = 10\n",
    "grid_width = 10\n",
    "pad_size = 2\n",
    "\n",
    "row_copy_targets = torch.linspace(0, grid_height - 1, steps = grid_height).long()\n",
    "row_copy_targets[2] = grid_height - 2\n",
    "row_copy_targets[3] = grid_height - 1\n",
    "row_copy_targets[grid_height - 4] = 0\n",
    "row_copy_targets[grid_height - 3] = 1\n",
    "\n",
    "row_copy_target_index = torch.autograd.Variable(row_copy_targets).view((grid_height, 1)).expand(grid_height, grid_width)\n",
    "\n",
    "col_copy_targets = torch.linspace(0, grid_width - 1, steps = grid_width).long()\n",
    "col_copy_targets[2] = grid_width - 2\n",
    "col_copy_targets[3] = grid_width - 1\n",
    "col_copy_targets[grid_width - 4] = 0\n",
    "col_copy_targets[grid_width - 3] = 1\n",
    "\n",
    "col_copy_target_index = torch.autograd.Variable(col_copy_targets).view(1, grid_width).expand(grid_height, grid_width)\n",
    "\n",
    "print(row_copy_target_index)\n",
    "print(col_copy_target_index)\n",
    "\n",
    "y.scatter_(0, row_copy_target_index, y)\n",
    "y.scatter_(1, col_copy_target_index, y)\n"
   ]
  },
  {
   "cell_type": "code",
   "execution_count": 3,
   "metadata": {},
   "outputs": [
    {
     "name": "stdout",
     "output_type": "stream",
     "text": [
      "Variable containing:\n",
      "    0     0     0     0     0     0     0     0     0     0\n",
      "    1     1     1     1     1     1     1     1     1     1\n",
      "    8     8     8     8     8     8     8     8     8     8\n",
      "    9     9     9     9     9     9     9     9     9     9\n",
      "    4     4     4     4     4     4     4     4     4     4\n",
      "    5     5     5     5     5     5     5     5     5     5\n",
      "    0     0     0     0     0     0     0     0     0     0\n",
      "    1     1     1     1     1     1     1     1     1     1\n",
      "    8     8     8     8     8     8     8     8     8     8\n",
      "    9     9     9     9     9     9     9     9     9     9\n",
      "[torch.LongTensor of size 10x10]\n",
      "\n",
      "Variable containing:\n",
      "    0     1     8     9     4     5     0     1     8     9\n",
      "    0     1     8     9     4     5     0     1     8     9\n",
      "    0     1     8     9     4     5     0     1     8     9\n",
      "    0     1     8     9     4     5     0     1     8     9\n",
      "    0     1     8     9     4     5     0     1     8     9\n",
      "    0     1     8     9     4     5     0     1     8     9\n",
      "    0     1     8     9     4     5     0     1     8     9\n",
      "    0     1     8     9     4     5     0     1     8     9\n",
      "    0     1     8     9     4     5     0     1     8     9\n",
      "    0     1     8     9     4     5     0     1     8     9\n",
      "[torch.LongTensor of size 10x10]\n",
      "\n"
     ]
    },
    {
     "data": {
      "text/plain": [
       "Variable containing:\n",
       "  955   966    94    95    96   944   955   966    94    95\n",
       "  988   999    97    98    99   977   988   999    97    98\n",
       "   22    33     1     2     3    11    22    33     1     2\n",
       "   55    66     4     5     6    44    55    66     4     5\n",
       "   88    99     7     8     9    77    88    99     7     8\n",
       "  922   933    91    92    93   911   922   933    91    92\n",
       "  955   966    94    95    96   944   955   966    94    95\n",
       "  988   999    97    98    99   977   988   999    97    98\n",
       "   22    33     1     2     3    11    22    33     1     2\n",
       "   55    66     4     5     6    44    55    66     4     5\n",
       "[torch.FloatTensor of size 10x10]"
      ]
     },
     "execution_count": 3,
     "metadata": {},
     "output_type": "execute_result"
    }
   ],
   "source": [
    "# Try new function that implements above\n",
    "\n",
    "from neural_rules import NeuralRules, Direction\n",
    "\n",
    "x = torch.autograd.Variable(torch.Tensor([\n",
    "    [1, 2, 3, 11, 22, 33, ],\n",
    "    [4, 5, 6, 44, 55, 66, ],\n",
    "    [7, 8, 9, 77, 88, 99, ],\n",
    "    [91, 92, 93, 911, 922, 933, ],\n",
    "    [94, 95, 96, 944, 955, 966, ],\n",
    "    [97, 98, 99, 977, 988, 999, ],\n",
    "]))\n",
    "\n",
    "y = torch.nn.ConstantPad2d(2,0)(x)\n",
    "\n",
    "grid_height = 10\n",
    "grid_width = 10\n",
    "pad_size = 2\n",
    "\n",
    "row_copy_target_index = NeuralRules(None)._construct_target_scatter_index(pad_size, grid_height, grid_width, Direction.ROWS)\n",
    "col_copy_target_index = NeuralRules(None)._construct_target_scatter_index(pad_size, grid_height, grid_width, Direction.COLUMNS)\n",
    "\n",
    "print(row_copy_target_index)\n",
    "print(col_copy_target_index)\n",
    "\n",
    "y.scatter_(0, row_copy_target_index, y)\n",
    "y.scatter_(1, col_copy_target_index, y)\n"
   ]
  },
  {
   "cell_type": "code",
   "execution_count": null,
   "metadata": {},
   "outputs": [],
   "source": []
  }
 ],
 "metadata": {
  "kernelspec": {
   "display_name": "Python 3",
   "language": "python",
   "name": "python3"
  },
  "language_info": {
   "codemirror_mode": {
    "name": "ipython",
    "version": 3
   },
   "file_extension": ".py",
   "mimetype": "text/x-python",
   "name": "python",
   "nbconvert_exporter": "python",
   "pygments_lexer": "ipython3",
   "version": "3.6.4"
  }
 },
 "nbformat": 4,
 "nbformat_minor": 2
}
