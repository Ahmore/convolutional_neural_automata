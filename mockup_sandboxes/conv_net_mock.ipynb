{
 "cells": [
  {
   "cell_type": "markdown",
   "metadata": {},
   "source": [
    "This is how the neural automata training should work.\n",
    "\n",
    "```\n",
    "# NOTE: conv nets should declare their toroidal padding requirements so the environment can give what the rules need\n",
    "\n",
    "conv_net = SimpleConvNet(hidden_channels = 10)\n",
    "\n",
    "neural_rules = NeuralRules(conv_net)\n",
    "AutomataEnvironment(ConwaysRules())\n",
    "\n",
    "neural_rules.train(glider_land, iterations = 1000)  # plots loss as train\n",
    "\n",
    "neural_environment = AutomataEnvironment(neural_rules)  # pass the whole grid when iterating so we have kernel flexibility\n",
    "neural_environment.copy_state(glider_land)\n",
    "\n",
    "automata_render.inline_video(neural_environment, frame_interval_millis = 100, frame_count = 30,)\n",
    "```"
   ]
  },
  {
   "cell_type": "code",
   "execution_count": 3,
   "metadata": {},
   "outputs": [
    {
     "data": {
      "image/png": "[encoded data removed]",
      "text/plain": [
       "<matplotlib.figure.Figure at 0x1054e7198>"
      ]
     },
     "metadata": {},
     "output_type": "display_data"
    }
   ],
   "source": [
    "from automata_environment import AutomataEnvironment\n",
    "from simple_conv_net import SimpleConvNet\n",
    "\n",
    "# try to use a conv net module on a glider land\n",
    "environment = AutomataEnvironment(None, 40, 50)\n",
    "environment.set_state_from_strings([\n",
    "    \"________________________________________\",\n",
    "    \"_XXX__XXX__XXX__XXX__XXX__XXX__XXX__XXX_\",\n",
    "    \"___X____X____X____X____X____X____X____X_\",\n",
    "    \"__X____X____X____X____X____X____X____X__\",\n",
    "    \"________________________________________\",\n",
    "] * 7)\n",
    "\n",
    "conv_net = SimpleConvNet(hidden_channels = 10).double()\n",
    "\n",
    "import torch\n",
    "import numpy as np\n",
    "\n",
    "t = torch.from_numpy(environment.current_grid).view(1, 1, 35, 40).double()\n",
    "\n",
    "v = torch.autograd.Variable(t)\n",
    "\n",
    "y = conv_net(v)\n",
    "\n",
    "y = np.array(y, dtype=float).reshape((31, 36))\n",
    "\n",
    "from matplotlib import pyplot as plt\n",
    "\n",
    "fig, ax = plt.subplots()\n",
    "mat = ax.matshow(y)\n",
    "mat.set_data(y)\n",
    "\n",
    "plt.show()"
   ]
  },
  {
   "cell_type": "code",
   "execution_count": null,
   "metadata": {},
   "outputs": [],
   "source": []
  }
 ],
 "metadata": {
  "kernelspec": {
   "display_name": "Python 3",
   "language": "python",
   "name": "python3"
  },
  "language_info": {
   "codemirror_mode": {
    "name": "ipython",
    "version": 3
   },
   "file_extension": ".py",
   "mimetype": "text/x-python",
   "name": "python",
   "nbconvert_exporter": "python",
   "pygments_lexer": "ipython3",
   "version": "3.6.4"
  }
 },
 "nbformat": 4,
 "nbformat_minor": 2
}
